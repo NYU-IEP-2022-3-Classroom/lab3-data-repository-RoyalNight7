{
  "nbformat": 4,
  "nbformat_minor": 0,
  "metadata": {
    "colab": {
      "provenance": [],
      "include_colab_link": true
    },
    "kernelspec": {
      "name": "python3",
      "display_name": "Python 3"
    },
    "language_info": {
      "name": "python"
    }
  },
  "cells": [
    {
      "cell_type": "markdown",
      "metadata": {
        "id": "view-in-github",
        "colab_type": "text"
      },
      "source": [
        "<a href=\"https://colab.research.google.com/github/NYU-IEP-2022-3-Classroom/lab3-data-repository-RoyalNight7/blob/main/QuickBite3.ipynb\" target=\"_parent\"><img src=\"https://colab.research.google.com/assets/colab-badge.svg\" alt=\"Open In Colab\"/></a>"
      ]
    },
    {
      "cell_type": "code",
      "execution_count": null,
      "metadata": {
        "id": "S8kidWd3-IeS"
      },
      "outputs": [],
      "source": [
        "import numpy as np\n",
        "import matplotlib.pyplot as plt"
      ]
    },
    {
      "cell_type": "code",
      "source": [],
      "metadata": {
        "id": "hTyKB6Eet5jw"
      },
      "execution_count": null,
      "outputs": []
    },
    {
      "cell_type": "markdown",
      "source": [
        "#Quick Bite 3, due 2/12 at 11:59 PM\n",
        "\n",
        "A pendulum experiencing a viscous drag obeys the equations\n",
        "\n",
        "$\\frac{dx}{dt} = v(t)$\n",
        "\n",
        "$m\\frac{dv}{dt} = -\\frac{m g}{L} x(t) - B v(t)$\n",
        "\n",
        "By making the substitutions $\\omega = \\sqrt\\frac{g}{L}, s = \\omega t, u = \\frac{v}{\\omega}$, and $Q = \\frac{m \\omega}{B}$, we can rewrite these as\n",
        "\n",
        "$\\frac{dx}{ds} = u(s)$\n",
        "\n",
        "$\\frac{du}{ds} = - x(s) - \\frac{1}{Q} u(s)$\n",
        "\n",
        "To use `solve_ivp` to integrate this system of differential equations, we need to define a 2 element numpy array $y = (x,u)$ and write a derivative function that calculates $\\frac{dy}{ds} = f(s, y, Q)$ \n",
        "\n",
        "Note that even though $s$ does not enter into our calculations, it has to be in the function definition. \n",
        "\n",
        "Please complete the function definition below. If you are feeling fancy, you can rewrite the function to use only one line of code, but this isn't required\n"
      ],
      "metadata": {
        "id": "aIPWzltuXORO"
      }
    },
    {
      "cell_type": "code",
      "source": [
        "def dampedOscillatorDerivative (s, y, Q):\n",
        "  x = y[0]\n",
        "  u = y[1]\n",
        "  dxds = #your code to complete this line\n",
        "  duds = #your code to complete this line\n",
        "  return (dxds, duds)"
      ],
      "metadata": {
        "id": "qVde_NyFfnOb"
      },
      "execution_count": null,
      "outputs": []
    }
  ]
}